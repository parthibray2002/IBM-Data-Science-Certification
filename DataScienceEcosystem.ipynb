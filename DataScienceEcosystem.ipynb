{
 "cells": [
  {
   "cell_type": "markdown",
   "id": "a678f7a1",
   "metadata": {},
   "source": [
    "# Data Science Tools and Ecosystem"
   ]
  },
  {
   "cell_type": "markdown",
   "id": "296c63bd",
   "metadata": {},
   "source": [
    "## Hi this is Parthib Ray, an MBA Business Analytics student from NMIMS Mumbai. I pursued my Graduate degree in Computer Science from SRM,KTR. My love for machine learning and data science and analytics led me to take this professional certificate."
   ]
  },
  {
   "cell_type": "markdown",
   "id": "0fbb9cf9",
   "metadata": {},
   "source": [
    "### Some of the data science languages:-"
   ]
  },
  {
   "cell_type": "markdown",
   "id": "224b8fd0",
   "metadata": {},
   "source": [
    "### 1.Python  \n",
    "### 2.Scala  \n",
    "### 3.R    \n",
    "### 4.Julia"
   ]
  },
  {
   "cell_type": "markdown",
   "id": "600bcc2c",
   "metadata": {},
   "source": [
    "### Some of the data science libraries:-"
   ]
  },
  {
   "cell_type": "markdown",
   "id": "96786af0",
   "metadata": {},
   "source": [
    "### 1.Keras\n",
    "### 2.Tensorflow\n",
    "### 3.Seaborn\n",
    "### 4.Matplotlib\n",
    "### 5.Numpy\n",
    "### 6.Pandas"
   ]
  },
  {
   "cell_type": "markdown",
   "id": "7d1efc6d",
   "metadata": {},
   "source": [
    "### Some of the data science tools:-"
   ]
  },
  {
   "cell_type": "markdown",
   "id": "b3a12c0a",
   "metadata": {},
   "source": [
    "### Python :- A general-purpose programming language that is also widely used for data science. It is easy to learn and has a large library of data science libraries. \n",
    "\n",
    "### R :-  A statistical programming language that is specifically designed for data analysis. It has a wide range of statistical functions and is well-supported by a large community of users. \n",
    "\n",
    "### SQL :- A database language that is used to query and manipulate data in databases. It is an essential language for data scientists who need to work with data stored in databases. \n",
    "\n",
    "### Java :- A general-purpose programming language that is also used for data science. It is a more complex language than Python or R, but it is also more powerful. \n",
    "\n",
    "### Julia :-  A relatively new language that is designed to be fast and efficient for data science. It is still under development, but it is gaining popularity among data scientists. \n",
    "\n",
    "### Scala :- A hybrid language that combines features of both object-oriented programming and functional programming. It is a powerful language that can be used for a variety of tasks, including data science. \n",
    "\n",
    "### Scikit-learn :- A library for machine learning in Python. It provides a wide range of machine learning algorithms, including classification, regression, clustering, and dimensionality reduction. \n",
    "\n"
   ]
  },
  {
   "cell_type": "markdown",
   "id": "c5c9916e",
   "metadata": {},
   "source": [
    "### Below are a few examples of evaluating arithmetic expressions in Python"
   ]
  },
  {
   "cell_type": "markdown",
   "id": "e3bf477a",
   "metadata": {},
   "source": [
    "### 1. Addition :- a+b\n",
    "### 2. Subtraction :- a-b\n",
    "### 3. Multiplication :- a*b\n",
    "### 4. Division :- a/b\n",
    "### 5. Modulus:- a%b\n",
    "### 6. Power :- a**n (n = no of times)"
   ]
  },
  {
   "cell_type": "code",
   "execution_count": 1,
   "id": "f797d6f5",
   "metadata": {},
   "outputs": [],
   "source": [
    "a = 20\n",
    "b = 10"
   ]
  },
  {
   "cell_type": "code",
   "execution_count": 2,
   "id": "12e8f7ea",
   "metadata": {},
   "outputs": [
    {
     "data": {
      "text/plain": [
       "200"
      ]
     },
     "execution_count": 2,
     "metadata": {},
     "output_type": "execute_result"
    }
   ],
   "source": [
    " a * b # Multiplication"
   ]
  },
  {
   "cell_type": "code",
   "execution_count": 3,
   "id": "1f1f2dfc",
   "metadata": {},
   "outputs": [
    {
     "data": {
      "text/plain": [
       "30"
      ]
     },
     "execution_count": 3,
     "metadata": {},
     "output_type": "execute_result"
    }
   ],
   "source": [
    "a + b # Addition"
   ]
  },
  {
   "cell_type": "code",
   "execution_count": 7,
   "id": "4f14a816",
   "metadata": {},
   "outputs": [
    {
     "name": "stdout",
     "output_type": "stream",
     "text": [
      "Enter the number of minutes: 34\n",
      "34 minutes is equal to 0.5666666666666667 hours.\n"
     ]
    }
   ],
   "source": [
    "def convert_minutes_to_hours(minutes):\n",
    "  \"\"\"\n",
    "  This function converts minutes to hours.\n",
    "\n",
    "  Args:\n",
    "    minutes: The number of minutes to convert.\n",
    "\n",
    "  Returns:\n",
    "    The number of hours equivalent to the given number of minutes.\n",
    "  \"\"\"\n",
    "\n",
    "  hours = minutes / 60\n",
    "\n",
    "  return hours\n",
    "\n",
    "\n",
    "if __name__ == \"__main__\":\n",
    "  minutes = int(input(\"Enter the number of minutes: \"))\n",
    "\n",
    "  hours = convert_minutes_to_hours(minutes)\n",
    "\n",
    "  print(f\"{minutes} minutes is equal to {hours} hours.\")"
   ]
  },
  {
   "cell_type": "markdown",
   "id": "d9b71e63",
   "metadata": {},
   "source": [
    "## Objectives of the exercise:-"
   ]
  },
  {
   "cell_type": "markdown",
   "id": "01d67ceb",
   "metadata": {},
   "source": [
    "* To learn the basics of Jupyter Notebook\n",
    "* To learn about the different data science tools\n",
    "* To get to explore more into the basics of operations in Jupyter Notebook"
   ]
  },
  {
   "cell_type": "markdown",
   "id": "e1b7c0dc",
   "metadata": {},
   "source": [
    "# Author Name :- Parthib Ray"
   ]
  }
 ],
 "metadata": {
  "kernelspec": {
   "display_name": "Python 3 (ipykernel)",
   "language": "python",
   "name": "python3"
  },
  "language_info": {
   "codemirror_mode": {
    "name": "ipython",
    "version": 3
   },
   "file_extension": ".py",
   "mimetype": "text/x-python",
   "name": "python",
   "nbconvert_exporter": "python",
   "pygments_lexer": "ipython3",
   "version": "3.11.3"
  }
 },
 "nbformat": 4,
 "nbformat_minor": 5
}
